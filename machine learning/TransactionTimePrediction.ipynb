{
 "cells": [
  {
   "cell_type": "markdown",
   "id": "35fbe5e1-cf32-43bb-8410-f5520057dd66",
   "metadata": {},
   "source": [
    "# 3.2) If a transaction cannot be formed, whether it occurs on the weekend (Kacy)"
   ]
  },
  {
   "cell_type": "markdown",
   "id": "5e510535-2c34-4ab2-b727-2b59e522afb4",
   "metadata": {
    "jp-MarkdownHeadingCollapsed": true,
    "tags": []
   },
   "source": [
    "## Imports, Global Variables, and Global Functions/Classes"
   ]
  },
  {
   "cell_type": "code",
   "execution_count": 287,
   "id": "83dee516-729f-42b9-984f-840d0db22472",
   "metadata": {},
   "outputs": [],
   "source": [
    "\"\"\" Imports \"\"\"\n",
    "\n",
    "import pandas as pd\n",
    "import numpy as np\n",
    "import matplotlib.pyplot as plt\n",
    "\n",
    "from sklearn.model_selection import cross_validate, cross_val_predict, train_test_split\n",
    "from sklearn.linear_model import LinearRegression, LogisticRegression, PassiveAggressiveRegressor\n",
    "from sklearn.neighbors import KNeighborsClassifier\n",
    "from sklearn.tree import DecisionTreeClassifier\n",
    "from sklearn.naive_bayes import GaussianNB\n",
    "\n",
    "\"\"\" Global Variables \"\"\"\n",
    "\n",
    "SEED = 42\n",
    "CV_SPLITS = 5\n",
    "CSV_PATH = \"data.csv\" \n",
    "\n",
    "\"\"\" Global Functions/Classes \"\"\"\n",
    "\n",
    "# Sets the random seed\n",
    "def set_seed():\n",
    "    np.random.seed(SEED)\n",
    "\n",
    "# Reads in the data\n",
    "def load_business_data(): \n",
    "    return pd.read_csv(CSV_PATH)\n",
    "\n",
    "# Applies the given threshold to convert the result into 0s and 1s\n",
    "def apply_threshold(data, threshold):\n",
    "    new_data = []\n",
    "    for i in data:\n",
    "        if i < threshold:\n",
    "            new_data.append(0)\n",
    "        else:\n",
    "            new_data.append(1)\n",
    "    return new_data\n",
    "\n",
    "# Finds the result with the maximum f1 value, given a list\n",
    "def find_max_f1(results_list):\n",
    "    max_f1 = (0, 0)\n",
    "    for result in results_list:\n",
    "        if result.f1() > max_f1[0]:\n",
    "            max_f1 = (result.f1(), result)\n",
    "    return max_f1[1]\n",
    "\n",
    "# Finds the result with the best roc co-ordinate value, given a list\n",
    "def find_best_roc(results_list):\n",
    "    best_roc = (0, 0)\n",
    "    for result in results_list:\n",
    "        if result.roc() > best_roc[0]:\n",
    "            best_roc = (result.roc(), result)\n",
    "    return best_roc[1]\n",
    "\n",
    "# Plots all ROC co-ordinates\n",
    "def plot_roc_comparison(title, ho_results, cv_results):\n",
    "    fig = plt.figure()\n",
    "    ax = fig.add_subplot()\n",
    "\n",
    "    # Plots cross validation co-ordinates\n",
    "    cv_data_x = []\n",
    "    cv_data_y = []\n",
    "    for result in cv_results:\n",
    "        cv_data_x.append(result.fpr())\n",
    "        cv_data_y.append(result.tpr())\n",
    "    cv = ax.plot(cv_data_x, cv_data_y, marker = \"o\", markersize=2, color=\"r\", label=\"Cross Validation\", linestyle=\"None\")\n",
    "    \n",
    "    # Plots holdout co-ordinates\n",
    "    ho_data_x = []\n",
    "    ho_data_y = []\n",
    "    for result in ho_results:\n",
    "        ho_data_x.append(result.fpr())\n",
    "        ho_data_y.append(result.tpr())     \n",
    "    ho = ax.plot(ho_data_x, ho_data_y, marker = \"o\", markersize=2, color=\"b\", label=\"Holdout\", linestyle=\"None\")\n",
    "    \n",
    "    # Calculates AUC\n",
    "    all_x = cv_data_x + ho_data_x\n",
    "    all_y = cv_data_y + ho_data_y\n",
    "    all_zipped = sorted(zip(all_x, all_y))\n",
    "    all_auc = auc([i[0] for i in all_zipped], [i[1] for i in all_zipped])\n",
    "    \n",
    "    # Adds graph cosmetics\n",
    "    ax.set_aspect(\"equal\", adjustable=\"box\")\n",
    "    ax.set_xlabel(\"FPR\")\n",
    "    ax.set_ylabel(\"TPR\")\n",
    "    ax.legend(handles=[cv[0], ho[0]], loc=\"lower right\")\n",
    "    plt.title(\"ROC Curve for\\n\" + title)\n",
    "    plt.plot([0, 1], [0, 1], color=\"k\", linestyle=\"dashed\", linewidth=1)\n",
    "    plt.xlim((0, 1))\n",
    "    plt.ylim((0, 1))\n",
    "    plt.grid()\n",
    "    plt.show()\n",
    "    \n",
    "    return all_auc\n",
    "    \n",
    "    \n",
    "# A class used to store results of a single model\n",
    "class Results:\n",
    "    def __init__(self, name, model, cm):\n",
    "        self.name = name\n",
    "        self.model = model\n",
    "        self.tn = cm[0][0]\n",
    "        self.fp = cm[0][1]\n",
    "        self.fn = cm[1][0]\n",
    "        self.tp = cm[1][1]\n",
    "        self.total = cm[0][0] + cm[0][1] + cm[1][0] + cm[1][1]\n",
    "    \n",
    "    def tpr(self):\n",
    "        return self.recall()\n",
    "    \n",
    "    def fpr(self):\n",
    "        return 1-self.specificity()\n",
    "    \n",
    "    def roc(self):\n",
    "        return self.tpr() - self.fpr()\n",
    "    \n",
    "    def accuracy(self):\n",
    "        return (self.tp + self.tn)/(self.tp + self.tn + self.fp + self.fn)\n",
    "\n",
    "    def precision(self):\n",
    "        # If denominator is 0, return 0\n",
    "        if self.tp + self.fp == 0:\n",
    "            return 0\n",
    "        else:\n",
    "            return (self.tp)/(self.tp + self.fp)\n",
    "    \n",
    "    def sensitivity(self):\n",
    "        # If denominator is 0, return 0\n",
    "        if self.tp + self.fp == 0:\n",
    "            return 0\n",
    "        else:\n",
    "            return (self.tp)/(self.tp + self.fn)\n",
    "    \n",
    "    def recall(self):\n",
    "        return self.sensitivity()\n",
    "        \n",
    "    def specificity(self):\n",
    "        # If denominator is 0, return 0\n",
    "        if self.tn + self.fp == 0:\n",
    "            return 0\n",
    "        else:\n",
    "            return (self.tn)/(self.tn + self.fp)\n",
    "        \n",
    "    def f1(self):\n",
    "        # If denominator is 0, return 0\n",
    "        if self.precision() + self.recall() == 0:\n",
    "            return 0\n",
    "        else:\n",
    "            return (2*self.precision()*self.recall())/(self.precision() + self.recall())\n",
    "    \n",
    "    # Prints out a summary of the results\n",
    "    def summary(self):\n",
    "        print(self.name)\n",
    "        print()\n",
    "        print(\"TP:\", round(self.tp, 3))\n",
    "        print(\"FN:\", round(self.fn, 3))\n",
    "        print(\"TN:\", round(self.tn, 3))\n",
    "        print(\"FP:\", round(self.fp, 3))\n",
    "        print()\n",
    "        print(\"TPR:\", round(self.tpr(), 3))\n",
    "        print(\"FPR:\", round(self.fpr(), 3))\n",
    "        print()\n",
    "        print(\"Accuracy:\", round(self.accuracy(), 3))\n",
    "        print(\"Precision:\", round(self.precision(), 3))\n",
    "        print(\"Sensitivity/Recall:\", round(self.recall(), 3))\n",
    "        print(\"Specificity:\", round(self.specificity(), 3))\n",
    "        print(\"F1:\", round(self.f1(), 3))\n",
    "        print()"
   ]
  },
  {
   "cell_type": "markdown",
   "id": "61c78713-fb45-41b0-a780-dfc9a9be2eea",
   "metadata": {
    "jp-MarkdownHeadingCollapsed": true,
    "tags": []
   },
   "source": [
    "## Load In and Clean Data"
   ]
  },
  {
   "cell_type": "code",
   "execution_count": 288,
   "id": "c5554563-43fa-4e1f-a3b2-5ee51854f96c",
   "metadata": {},
   "outputs": [],
   "source": [
    "data = load_business_data()\n",
    "\n",
    "# \"CustomerType\" and \"Weekend\" should be encoded as 1s and 0s\n",
    "data[\"CustomerType\"] = np.where(data[\"CustomerType\"] == \"Returning_Customer\", 1, 0)\n",
    "data[\"Weekend\"] = np.where(data[\"Weekend\"] == True, 1, 0)\n",
    "\n",
    "# These columns should be one-hot encoded\n",
    "month_one_hot = pd.get_dummies(data[\"Month\"])\n",
    "data = data.drop(\"Month\", axis=1)\n",
    "data = data.join(month_one_hot)\n",
    "\n",
    "special_one_hot = pd.get_dummies(data[\"SpecialDay\"], prefix=\"SpecialDay\")\n",
    "data = data.drop(\"SpecialDay\", axis=1)\n",
    "data = data.join(special_one_hot)\n",
    "\n",
    "region_one_hot = pd.get_dummies(data[\"Region\"], prefix=\"Region\")\n",
    "data = data.drop(\"Region\", axis=1)\n",
    "data = data.join(region_one_hot)\n",
    "\n",
    "# Keep only data where a transaction could not be formed\n",
    "data = data[~data[\"Revenue\"]]\n",
    "data = data.drop(\"Revenue\",axis=1)\n",
    "\n",
    "# Create stratified training and test splits based on the weekend value\n",
    "data = data.dropna()\n",
    "x = data.drop(\"Weekend\", axis=1)\n",
    "y = data[\"Weekend\"]\n",
    "\n",
    "x_train, x_test, y_train, y_test = train_test_split(x, y, test_size=0.2, stratify=y)"
   ]
  },
  {
   "cell_type": "markdown",
   "id": "f4013182-f440-4ee2-86c7-de8a6ffb8f2b",
   "metadata": {
    "tags": []
   },
   "source": [
    "## All Models"
   ]
  },
  {
   "cell_type": "markdown",
   "id": "d3f7f95d-51bc-4550-98b3-f6dde2761294",
   "metadata": {},
   "source": [
    "### Logistic Regression"
   ]
  },
  {
   "cell_type": "code",
   "execution_count": 310,
   "id": "74ef42f4-a936-44f3-a2ea-1e6e43042df9",
   "metadata": {},
   "outputs": [
    {
     "data": {
      "image/png": "[encoded data removed]",
      "text/plain": [
       "<Figure size 432x288 with 1 Axes>"
      ]
     },
     "metadata": {
      "needs_background": "light"
     },
     "output_type": "display_data"
    },
    {
     "name": "stdout",
     "output_type": "stream",
     "text": [
      "Logistic Regression (Holdout)\n",
      "\n",
      "TP: 340\n",
      "FN: 134\n",
      "TN: 799\n",
      "FP: 812\n",
      "\n",
      "TPR: 0.717\n",
      "FPR: 0.504\n",
      "\n",
      "Accuracy: 0.546\n",
      "Precision: 0.295\n",
      "Sensitivity/Recall: 0.717\n",
      "Specificity: 0.496\n",
      "F1: 0.418\n",
      "\n",
      "Logistic Regression (Cross Validation) i=1\n",
      "\n",
      "TP: 334\n",
      "FN: 140\n",
      "TN: 819\n",
      "FP: 792\n",
      "\n",
      "TPR: 0.705\n",
      "FPR: 0.492\n",
      "\n",
      "Accuracy: 0.553\n",
      "Precision: 0.297\n",
      "Sensitivity/Recall: 0.705\n",
      "Specificity: 0.508\n",
      "F1: 0.418\n",
      "\n"
     ]
    }
   ],
   "source": [
    "set_seed()\n",
    "\n",
    "# Using the hold out method with logistic regression\n",
    "logistic_reg_ho = LogisticRegression(max_iter=10000, class_weight=\"balanced\")\n",
    "logistic_reg_ho.fit(x_train, y_train)\n",
    "logistic_prediction_ho = logistic_reg_ho.predict(x_test)\n",
    "logistic_cm_ho = metrics.confusion_matrix(y_test, logistic_prediction_ho)\n",
    "logistic_results_ho = Results(\"Logistic Regression (Holdout)\", logistic_reg_ho, logistic_cm_ho)\n",
    "\n",
    "# Using the cross validation method with logistic regression\n",
    "logistic_reg_cv = LogisticRegression(max_iter=10000, class_weight=\"balanced\")\n",
    "logistic_cv = cross_validate(logistic_reg_cv, x_train, y_train, cv=CV_SPLITS, return_estimator=True)\n",
    "logistic_results_cv = []\n",
    "logistic_max_cv = (0, 0)\n",
    "for i in range(len(logistic_cv[\"estimator\"])):\n",
    "    logistic_prediction_cv = metrics.confusion_matrix(y_test, logistic_cv[\"estimator\"][i].predict(x_test))\n",
    "    logistic_results_cv.append(Results(\"Logistic Regression (Cross Validation) i=\" + str(i), logistic_cv[\"estimator\"][i], logistic_prediction_cv))\n",
    "\n",
    "# Plotting ROC curve for all models\n",
    "plot_roc_comparison(\"Logistic Regression\", [logistic_results_ho], logistic_results_cv)\n",
    "\n",
    "# Printing out summaries of the models with the best ROC co-ordinates\n",
    "logistic_results_ho.summary()\n",
    "find_best_roc(logistic_results_cv).summary()"
   ]
  },
  {
   "cell_type": "markdown",
   "id": "77339062-f63d-4340-8036-739fff983740",
   "metadata": {},
   "source": [
    "### Linear Regression"
   ]
  },
  {
   "cell_type": "code",
   "execution_count": 290,
   "id": "eba6d72a-3572-4b3c-a76a-916e641c160a",
   "metadata": {},
   "outputs": [
    {
     "data": {
      "image/png": "[encoded data removed]",
      "text/plain": [
       "<Figure size 432x288 with 1 Axes>"
      ]
     },
     "metadata": {
      "needs_background": "light"
     },
     "output_type": "display_data"
    },
    {
     "name": "stdout",
     "output_type": "stream",
     "text": [
      "AUC: 0.566 \n",
      "\n",
      "Linear Regression (Holdout) t=0.23\n",
      "\n",
      "TP: 333\n",
      "FN: 141\n",
      "TN: 809\n",
      "FP: 802\n",
      "\n",
      "TPR: 0.703\n",
      "FPR: 0.498\n",
      "\n",
      "Accuracy: 0.548\n",
      "Precision: 0.293\n",
      "Sensitivity/Recall: 0.703\n",
      "Specificity: 0.502\n",
      "F1: 0.414\n",
      "\n",
      "Linear Regression (Cross Validation) t=0.23, cv=2\n",
      "\n",
      "TP: 348\n",
      "FN: 126\n",
      "TN: 761\n",
      "FP: 850\n",
      "\n",
      "TPR: 0.734\n",
      "FPR: 0.528\n",
      "\n",
      "Accuracy: 0.532\n",
      "Precision: 0.29\n",
      "Sensitivity/Recall: 0.734\n",
      "Specificity: 0.472\n",
      "F1: 0.416\n",
      "\n"
     ]
    }
   ],
   "source": [
    "set_seed()\n",
    "\n",
    "# Variables to store results of using the hold out method with linear regression \n",
    "linear_results_ho = []\n",
    "linear_reg_ho = LinearRegression()\n",
    "linear_reg_ho.fit(x_train, y_train)\n",
    "\n",
    "# Variables to store the results of using the cross validation method with linear regression \n",
    "linear_results_cv = []\n",
    "linear_reg_cv = LinearRegression()\n",
    "linear_cv = cross_validate(linear_reg_cv, x_train, y_train, cv=CV_SPLITS, return_estimator=True)\n",
    "\n",
    "# Uses a binary threshold from 0.01 to 1 in steps of 0.01\n",
    "for t in np.arange(0.01, 1, 0.01):\n",
    "    # Adding threshold to and predicting with the hold out method\n",
    "    linear_prediction_ho = apply_threshold(linear_reg_ho.predict(x_test), t)\n",
    "    linear_cm_ho = metrics.confusion_matrix(y_test, linear_prediction_ho)\n",
    "    linear_results_ho_curr = Results(\"Linear Regression (Holdout) t=\" + str(round(t, 2)), linear_reg_ho, linear_cm_ho)\n",
    "    linear_results_ho.append(linear_results_ho_curr)\n",
    "\n",
    "    # Adding threshold to and predicting with each cross validation method\n",
    "    for i in range(len(linear_cv[\"estimator\"])):\n",
    "        linear_prediction_cv = apply_threshold(linear_cv[\"estimator\"][i].predict(x_test), t)\n",
    "        linear_prediction_cv = metrics.confusion_matrix(y_test, linear_prediction_cv)\n",
    "        linear_results_cv_curr = Results(\"Linear Regression (Cross Validation) t=\" + str(round(t, 2)) + \", cv=\"+str(i), linear_cv[\"estimator\"][i], linear_prediction_cv)\n",
    "        linear_results_cv.append(linear_results_cv_curr)\n",
    "\n",
    "# Plotting ROC curve for all models\n",
    "linear_auc = plot_roc_comparison(\"Linear Regression\", linear_results_ho, linear_results_cv)\n",
    "print(\"AUC:\", round(linear_auc, 3),\"\\n\")\n",
    "\n",
    "# Printing out summaries of the models with the best ROC co-ordinates\n",
    "find_best_roc(linear_results_ho).summary()\n",
    "find_best_roc(linear_results_cv).summary()"
   ]
  },
  {
   "cell_type": "markdown",
   "id": "cd24396d-45cb-4512-b56f-b16f4e760bf8",
   "metadata": {},
   "source": [
    "### Gaussian Naive Bayseian Classifier"
   ]
  },
  {
   "cell_type": "code",
   "execution_count": 294,
   "id": "5c520eaa-86d2-4778-9380-41215fce394f",
   "metadata": {},
   "outputs": [
    {
     "data": {
      "image/png": "[encoded data removed]",
      "text/plain": [
       "<Figure size 432x288 with 1 Axes>"
      ]
     },
     "metadata": {
      "needs_background": "light"
     },
     "output_type": "display_data"
    },
    {
     "name": "stdout",
     "output_type": "stream",
     "text": [
      "Gaussian Naive Bayseian Classifier (Holdout)\n",
      "\n",
      "TP: 450\n",
      "FN: 24\n",
      "TN: 360\n",
      "FP: 1251\n",
      "\n",
      "TPR: 0.949\n",
      "FPR: 0.777\n",
      "\n",
      "Accuracy: 0.388\n",
      "Precision: 0.265\n",
      "Sensitivity/Recall: 0.949\n",
      "Specificity: 0.223\n",
      "F1: 0.414\n",
      "\n",
      "Gaussian Naive Bayseian Classifier (Cross Validation) i=0\n",
      "\n",
      "TP: 437\n",
      "FN: 37\n",
      "TN: 411\n",
      "FP: 1200\n",
      "\n",
      "TPR: 0.922\n",
      "FPR: 0.745\n",
      "\n",
      "Accuracy: 0.407\n",
      "Precision: 0.267\n",
      "Sensitivity/Recall: 0.922\n",
      "Specificity: 0.255\n",
      "F1: 0.414\n",
      "\n"
     ]
    }
   ],
   "source": [
    "set_seed()\n",
    "\n",
    "# Using the hold out method with the Gaussian Naive Bayseian classifier \n",
    "gnb_reg_ho = GaussianNB()\n",
    "gnb_reg_ho.fit(x_train, y_train)\n",
    "gnb_prediction_ho = gnb_reg_ho.predict(x_test)\n",
    "gnb_cm_ho = metrics.confusion_matrix(y_test, gnb_prediction_ho)\n",
    "gnb_results_ho = Results(\"Gaussian Naive Bayseian Classifier (Holdout)\", gnb_reg_ho, gnb_cm_ho)\n",
    "\n",
    "# Using the cross validation method with the Gaussian Naive Bayseian classifier \n",
    "gnb_reg_cv = GaussianNB()\n",
    "gnb_cv = cross_validate(gnb_reg_cv, x_train, y_train, cv=CV_SPLITS, return_estimator=True)\n",
    "gnb_results_cv = []\n",
    "gnb_max_cv = (0, 0)\n",
    "for i in range(len(gnb_cv[\"estimator\"])):\n",
    "    gnb_prediction_cv = metrics.confusion_matrix(y_test, gnb_cv[\"estimator\"][i].predict(x_test))\n",
    "    gnb_results_cv.append(Results(\"Gaussian Naive Bayseian Classifier (Cross Validation) i=\" + str(i), gnb_cv[\"estimator\"][i], gnb_prediction_cv))\n",
    "\n",
    "# Plotting ROC curve for all models\n",
    "plot_roc_comparison(\"Gaussian Naive Bayseian Classifier\", [gnb_results_ho], gnb_results_cv)\n",
    "\n",
    "# Printing out summaries of the models with the best ROC co-ordinates\n",
    "gnb_results_ho.summary()\n",
    "find_best_roc(gnb_results_cv).summary()\n"
   ]
  },
  {
   "cell_type": "markdown",
   "id": "7b523b04-f78f-45ed-b5be-fbe6e34a8778",
   "metadata": {
    "tags": []
   },
   "source": [
    "### Decision Tree Classifier"
   ]
  },
  {
   "cell_type": "code",
   "execution_count": 332,
   "id": "520bc83a-8111-4a15-a295-6f1a72b7ce06",
   "metadata": {},
   "outputs": [
    {
     "data": {
      "image/png": "[encoded data removed]",
      "text/plain": [
       "<Figure size 432x288 with 1 Axes>"
      ]
     },
     "metadata": {
      "needs_background": "light"
     },
     "output_type": "display_data"
    },
    {
     "name": "stdout",
     "output_type": "stream",
     "text": [
      "Decision Tree Classifier (Holdout) d=7\n",
      "\n",
      "TP: 277\n",
      "FN: 197\n",
      "TN: 1001\n",
      "FP: 610\n",
      "\n",
      "TPR: 0.584\n",
      "FPR: 0.379\n",
      "\n",
      "Accuracy: 0.613\n",
      "Precision: 0.312\n",
      "Sensitivity/Recall: 0.584\n",
      "Specificity: 0.621\n",
      "F1: 0.407\n",
      "\n",
      "Decision Tree Classifier (Cross Validation) cv=1, d=6\n",
      "\n",
      "TP: 298\n",
      "FN: 176\n",
      "TN: 945\n",
      "FP: 666\n",
      "\n",
      "TPR: 0.629\n",
      "FPR: 0.413\n",
      "\n",
      "Accuracy: 0.596\n",
      "Precision: 0.309\n",
      "Sensitivity/Recall: 0.629\n",
      "Specificity: 0.587\n",
      "F1: 0.414\n",
      "\n"
     ]
    }
   ],
   "source": [
    "set_seed()\n",
    "\n",
    "# Variables to store the results of using the hold out method with a decision tree classifier \n",
    "dt_results_ho = []\n",
    "dt_models_ho = []\n",
    "\n",
    "# Variables to store the results of using the cross validation method with a decision tree classifier \n",
    "dt_results_cv = []\n",
    "dt_models_cv = []\n",
    "\n",
    "# Using max_depth values from 1 to 5\n",
    "for d in range(1, 10, 1):\n",
    "    # Adding threshold to and predicting with the hold out method\n",
    "    dt_reg_ho = DecisionTreeClassifier(class_weight=\"balanced\", max_depth=d)\n",
    "    dt_reg_ho.fit(x_train, y_train)\n",
    "    dt_models_ho.append(dt_reg_ho)\n",
    "    dt_prediction_ho = dt_reg_ho.predict(x_test)\n",
    "    dt_cm_ho = metrics.confusion_matrix(y_test, dt_prediction_ho)\n",
    "    dt_results_ho_curr = Results(\"Decision Tree Classifier (Holdout) d=\" + str(d), dt_reg_ho, dt_cm_ho)\n",
    "    dt_results_ho.append(dt_results_ho_curr)\n",
    "\n",
    "    # Adding threshold to and predicting with each cross validation method\n",
    "    dt_reg_cv = DecisionTreeClassifier(class_weight=\"balanced\", max_depth=d)\n",
    "    dt_cv = cross_validate(dt_reg_cv, x_train, y_train, cv=CV_SPLITS, return_estimator=True)\n",
    "    dt_models_cv.extend(dt_cv)\n",
    "    for i in range(len(dt_cv[\"estimator\"])):\n",
    "        dt_prediction_cv = dt_cv[\"estimator\"][i].predict(x_test)\n",
    "        dt_prediction_cv = metrics.confusion_matrix(y_test, dt_prediction_cv)\n",
    "        dt_results_cv_curr = Results(\"Decision Tree Classifier (Cross Validation) cv=\" + str(i) + \", d=\" + str(d), dt_cv[\"estimator\"][i], dt_prediction_cv)\n",
    "        dt_results_cv.append(dt_results_cv_curr)\n",
    "\n",
    "# Plotting ROC curve for all models\n",
    "plot_roc_comparison(\"Decision Tree Classifier\", dt_results_ho, dt_results_cv)\n",
    "\n",
    "# Printing out summaries of the models with the best ROC co-ordinates\n",
    "find_best_roc(dt_results_ho).summary()\n",
    "find_best_roc(dt_results_cv).summary()"
   ]
  },
  {
   "cell_type": "markdown",
   "id": "e76857f9-9160-413f-bc50-72ee2a5d1b0e",
   "metadata": {},
   "source": [
    "### Passive Aggressive Regression"
   ]
  },
  {
   "cell_type": "code",
   "execution_count": 304,
   "id": "d0a4d137-5cf4-421e-b7af-9d732a6ccdc6",
   "metadata": {},
   "outputs": [
    {
     "data": {
      "image/png": "[encoded data removed]",
      "text/plain": [
       "<Figure size 432x288 with 1 Axes>"
      ]
     },
     "metadata": {
      "needs_background": "light"
     },
     "output_type": "display_data"
    },
    {
     "name": "stdout",
     "output_type": "stream",
     "text": [
      "Passive Aggressive Regression (Holdout) t=0.3\n",
      "\n",
      "TP: 420\n",
      "FN: 54\n",
      "TN: 326\n",
      "FP: 1285\n",
      "\n",
      "TPR: 0.886\n",
      "FPR: 0.798\n",
      "\n",
      "Accuracy: 0.358\n",
      "Precision: 0.246\n",
      "Sensitivity/Recall: 0.886\n",
      "Specificity: 0.202\n",
      "F1: 0.385\n",
      "\n",
      "Passive Aggressive Regression (Cross Validation) t=0.08, cv=0\n",
      "\n",
      "TP: 223\n",
      "FN: 251\n",
      "TN: 1011\n",
      "FP: 600\n",
      "\n",
      "TPR: 0.47\n",
      "FPR: 0.372\n",
      "\n",
      "Accuracy: 0.592\n",
      "Precision: 0.271\n",
      "Sensitivity/Recall: 0.47\n",
      "Specificity: 0.628\n",
      "F1: 0.344\n",
      "\n"
     ]
    }
   ],
   "source": [
    "set_seed()\n",
    "\n",
    "# Variables to store results of using the hold out method with passive aggressive regression\n",
    "pass_agg_results_ho = []\n",
    "pass_agg_reg_ho = PassiveAggressiveRegressor()\n",
    "pass_agg_reg_ho.fit(x_train, y_train)\n",
    "\n",
    "# Variables to store results of using the cross validation method with passive aggressive regression\n",
    "pass_agg_results_cv = []\n",
    "pass_agg_reg_cv = PassiveAggressiveRegressor()\n",
    "pass_agg_cv = cross_validate(pass_agg_reg_cv, x_train, y_train, cv=CV_SPLITS, return_estimator=True)\n",
    "\n",
    "# Uses a binary threshold from 0.01 to 1 in steps of 0.01\n",
    "for t in np.arange(0.01, 1, 0.01):\n",
    "    # Adding threshold to and predicting with the hold out method\n",
    "    pass_agg_prediction_ho = apply_threshold(pass_agg_reg_ho.predict(x_test), t)\n",
    "    pass_agg_cm_ho = metrics.confusion_matrix(y_test, pass_agg_prediction_ho)\n",
    "    pass_agg_results_ho_curr = Results(\"Passive Aggressive Regression (Holdout) t=\" + str(round(t, 2)), pass_agg_reg_ho, pass_agg_cm_ho)\n",
    "    pass_agg_results_ho.append(pass_agg_results_ho_curr)\n",
    "\n",
    "    # Adding threshold to and predicting with each cross validation method\n",
    "    for i in range(len(pass_agg_cv[\"estimator\"])):\n",
    "        pass_agg_prediction_cv = apply_threshold(pass_agg_cv[\"estimator\"][i].predict(x_test), t)\n",
    "        pass_agg_prediction_cv = metrics.confusion_matrix(y_test, pass_agg_prediction_cv)\n",
    "        pass_agg_results_cv_curr = Results(\"Passive Aggressive Regression (Cross Validation) t=\" + str(round(t, 2)) + \", cv=\"+str(i), pass_agg_cv[\"estimator\"][i], pass_agg_prediction_cv)\n",
    "        pass_agg_results_cv.append(pass_agg_results_cv_curr)\n",
    "\n",
    "# Plotting ROC curve for all models\n",
    "pass_agg_auc = plot_roc_comparison(\"Passive Aggressive Regression\", pass_agg_results_ho, pass_agg_results_cv)\n",
    "\n",
    "# Printing out summaries of the models with the best ROC co-ordinates\n",
    "find_best_roc(pass_agg_results_ho).summary()\n",
    "find_best_roc(pass_agg_results_cv).summary()"
   ]
  },
  {
   "cell_type": "markdown",
   "id": "86684bb5-1773-478c-b912-9b874e429c1d",
   "metadata": {},
   "source": [
    "### K Nearest Neighbours"
   ]
  },
  {
   "cell_type": "code",
   "execution_count": 331,
   "id": "6f2bbb13-97c8-4cd6-bdca-d3bdb4082eeb",
   "metadata": {},
   "outputs": [
    {
     "data": {
      "image/png": "[encoded data removed]",
      "text/plain": [
       "<Figure size 432x288 with 1 Axes>"
      ]
     },
     "metadata": {
      "needs_background": "light"
     },
     "output_type": "display_data"
    },
    {
     "name": "stdout",
     "output_type": "stream",
     "text": [
      "K Nearest Neighbours (Holdout) k=1\n",
      "\n",
      "TP: 115\n",
      "FN: 359\n",
      "TN: 1244\n",
      "FP: 367\n",
      "\n",
      "TPR: 0.243\n",
      "FPR: 0.228\n",
      "\n",
      "Accuracy: 0.652\n",
      "Precision: 0.239\n",
      "Sensitivity/Recall: 0.243\n",
      "Specificity: 0.772\n",
      "F1: 0.241\n",
      "\n",
      "K Nearest Neighbours (Cross Validation) cv=1, k=1\n",
      "\n",
      "TP: 123\n",
      "FN: 351\n",
      "TN: 1224\n",
      "FP: 387\n",
      "\n",
      "TPR: 0.259\n",
      "FPR: 0.24\n",
      "\n",
      "Accuracy: 0.646\n",
      "Precision: 0.241\n",
      "Sensitivity/Recall: 0.259\n",
      "Specificity: 0.76\n",
      "F1: 0.25\n",
      "\n"
     ]
    }
   ],
   "source": [
    "set_seed()\n",
    "\n",
    "# Variables to store the results of using the hold out method with k nearest neighbours \n",
    "k_nearest_results_ho = []\n",
    "k_nearest_models_ho = []\n",
    "\n",
    "# Variables to store the results of using the cross validation method with k nearest neighbours \n",
    "k_nearest_results_cv = []\n",
    "k_nearest_models_cv = []\n",
    "\n",
    "# Using k values from 1 to 5\n",
    "for k in range(1, 5, 1):\n",
    "    # Adding threshold to and predicting with the hold out method\n",
    "    k_nearest_reg_ho = KNeighborsClassifier(n_neighbors = k, weights=\"distance\", p=1)\n",
    "    k_nearest_reg_ho.fit(x_train, y_train)\n",
    "    k_nearest_models_ho.append(k_nearest_reg_ho)\n",
    "    k_nearest_prediction_ho = k_nearest_reg_ho.predict(x_test)\n",
    "    k_nearest_cm_ho = metrics.confusion_matrix(y_test, k_nearest_prediction_ho)\n",
    "    k_nearest_results_ho_curr = Results(\"K Nearest Neighbours (Holdout) k=\" + str(k), k_nearest_reg_ho, k_nearest_cm_ho)\n",
    "    k_nearest_results_ho.append(k_nearest_results_ho_curr)\n",
    "\n",
    "    # Adding threshold to and predicting with each cross validation method\n",
    "    k_nearest_reg_cv = KNeighborsClassifier(n_neighbors = k, weights=\"distance\", p=1)\n",
    "    k_nearest_cv = cross_validate(k_nearest_reg_cv, x_train, y_train, cv=CV_SPLITS, return_estimator=True)\n",
    "    k_nearest_models_cv.extend(k_nearest_cv)\n",
    "    for i in range(len(k_nearest_cv[\"estimator\"])):\n",
    "        k_nearest_prediction_cv = k_nearest_cv[\"estimator\"][i].predict(x_test)\n",
    "        k_nearest_prediction_cv = metrics.confusion_matrix(y_test, k_nearest_prediction_cv)\n",
    "        k_nearest_results_cv_curr = Results(\"K Nearest Neighbours (Cross Validation) cv=\" + str(i) + \", k=\" + str(k), k_nearest_cv[\"estimator\"][i], k_nearest_prediction_cv)\n",
    "        k_nearest_results_cv.append(k_nearest_results_cv_curr)\n",
    "\n",
    "# Plotting ROC curve for all models\n",
    "plot_roc_comparison(\"K Nearest Neighbours\", k_nearest_results_ho, k_nearest_results_cv)\n",
    "\n",
    "# Printing out summaries of the models with the best ROC co-ordinates\n",
    "find_best_roc(k_nearest_results_ho).summary()\n",
    "find_best_roc(k_nearest_results_cv).summary()"
   ]
  },
  {
   "cell_type": "code",
   "execution_count": null,
   "id": "f345215f-36aa-45a8-bb89-d3ee837012f4",
   "metadata": {},
   "outputs": [],
   "source": []
  }
 ],
 "metadata": {
  "kernelspec": {
   "display_name": "Python 3 (ipykernel)",
   "language": "python",
   "name": "python3"
  },
  "language_info": {
   "codemirror_mode": {
    "name": "ipython",
    "version": 3
   },
   "file_extension": ".py",
   "mimetype": "text/x-python",
   "name": "python",
   "nbconvert_exporter": "python",
   "pygments_lexer": "ipython3",
   "version": "3.9.7"
  }
 },
 "nbformat": 4,
 "nbformat_minor": 5
}
